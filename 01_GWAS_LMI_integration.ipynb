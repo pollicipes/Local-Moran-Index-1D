{
 "cells": [
  {
   "cell_type": "markdown",
   "metadata": {
    "toc": true
   },
   "source": [
    "<h1>Table of Contents<span class=\"tocSkip\"></span></h1>\n",
    "<div class=\"toc\"><ul class=\"toc-item\"><li><span><a href=\"#Read-and-setting-up-GWAS-and-LMI-outputs\" data-toc-modified-id=\"Read-and-setting-up-GWAS-and-LMI-outputs-1\"><span class=\"toc-item-num\">1&nbsp;&nbsp;</span>Read and setting up GWAS and LMI outputs</a></span></li><li><span><a href=\"#Analysis\" data-toc-modified-id=\"Analysis-2\"><span class=\"toc-item-num\">2&nbsp;&nbsp;</span>Analysis</a></span><ul class=\"toc-item\"><li><span><a href=\"#Filters-for-the-LMI-values\" data-toc-modified-id=\"Filters-for-the-LMI-values-2.1\"><span class=\"toc-item-num\">2.1&nbsp;&nbsp;</span>Filters for the LMI values</a></span><ul class=\"toc-item\"><li><span><a href=\"#Filter-one:-Removing-the-LMI-negative-values\" data-toc-modified-id=\"Filter-one:-Removing-the-LMI-negative-values-2.1.1\"><span class=\"toc-item-num\">2.1.1&nbsp;&nbsp;</span>Filter one: Removing the LMI negative values</a></span></li><li><span><a href=\"#Filter-two:-Removing-if-the-SNPs-come-from-the-negative-part-of-their-Z-score-distribution\" data-toc-modified-id=\"Filter-two:-Removing-if-the-SNPs-come-from-the-negative-part-of-their-Z-score-distribution-2.1.2\"><span class=\"toc-item-num\">2.1.2&nbsp;&nbsp;</span>Filter two: Removing if the SNPs come from the negative part of their Z-score distribution</a></span></li></ul></li><li><span><a href=\"#Selecting-the-top-0.5%-SNPs\" data-toc-modified-id=\"Selecting-the-top-0.5%-SNPs-2.2\"><span class=\"toc-item-num\">2.2&nbsp;&nbsp;</span>Selecting the top 0.5% SNPs</a></span></li><li><span><a href=\"#Adding-the-143-GWASpv-<1e-04-prioritized-in-the-paper\" data-toc-modified-id=\"Adding-the-143-GWASpv-<1e-04-prioritized-in-the-paper-2.3\"><span class=\"toc-item-num\">2.3&nbsp;&nbsp;</span>Adding the 143 GWASpv &lt;1e-04 prioritized in the paper</a></span></li><li><span><a href=\"#Plot:-Correlation-GWASpv-LMI\" data-toc-modified-id=\"Plot:-Correlation-GWASpv-LMI-2.4\"><span class=\"toc-item-num\">2.4&nbsp;&nbsp;</span>Plot: Correlation GWASpv LMI</a></span></li><li><span><a href=\"#Plot:-Zoom-distribution-of-LMI-scores.\" data-toc-modified-id=\"Plot:-Zoom-distribution-of-LMI-scores.-2.5\"><span class=\"toc-item-num\">2.5&nbsp;&nbsp;</span>Plot: Zoom distribution of LMI scores.</a></span></li><li><span><a href=\"#Getting-the-624-selected-GWAS+LMI-SNPs\" data-toc-modified-id=\"Getting-the-624-selected-GWAS+LMI-SNPs-2.6\"><span class=\"toc-item-num\">2.6&nbsp;&nbsp;</span>Getting the 624 selected GWAS+LMI SNPs</a></span></li></ul></li></ul></div>"
   ]
  },
  {
   "cell_type": "markdown",
   "metadata": {},
   "source": [
    "### Read and setting up GWAS and LMI outputs"
   ]
  },
  {
   "cell_type": "markdown",
   "metadata": {},
   "source": [
    "For this part, we will be using R."
   ]
  },
  {
   "cell_type": "code",
   "execution_count": 73,
   "metadata": {},
   "outputs": [],
   "source": [
    "# Install these two R, if not already installed \n",
    "library(dplyr)\n",
    "library(scales)"
   ]
  },
  {
   "cell_type": "code",
   "execution_count": 3,
   "metadata": {},
   "outputs": [],
   "source": [
    "# Set up a directory pointing to where the data are being stored (generally, should be the GitHub repo folder) \n",
    "wd=YOUR_PATH/data"
   ]
  },
  {
   "cell_type": "code",
   "execution_count": 12,
   "metadata": {},
   "outputs": [],
   "source": [
    "# read the sumstats you just generated\n",
    "sumstats=read.table(paste0(wd,\"/sumstats.raw.pangen_isblac_epicuro\"), header=F)\n",
    "colnames(sumstats)=c(\"snp\",\"chr\",\"position\",\"or\",\"pv\")"
   ]
  },
  {
   "cell_type": "code",
   "execution_count": 5,
   "metadata": {},
   "outputs": [],
   "source": [
    "# read the LMI outputs\n",
    "lmi=read.csv(paste0(wd,\"results_LMI/sumstats.raw.pangen_isblac_epicuro_localMoranI.all\"), header=F, na.strings=c(\"\",\"NA\"), sep='\\t')\n",
    "colnames(lmi)=c(\"snp\", \"position\",\"score\")"
   ]
  },
  {
   "cell_type": "code",
   "execution_count": 14,
   "metadata": {},
   "outputs": [
    {
     "data": {
      "text/html": [
       "<table>\n",
       "<caption>A data.frame: 6 × 3</caption>\n",
       "<thead>\n",
       "\t<tr><th scope=col>snp</th><th scope=col>position</th><th scope=col>score</th></tr>\n",
       "\t<tr><th scope=col>&lt;fct&gt;</th><th scope=col>&lt;int&gt;</th><th scope=col>&lt;dbl&gt;</th></tr>\n",
       "</thead>\n",
       "<tbody>\n",
       "\t<tr><td>chr1_834753_C_G</td><td>834753</td><td>-0.7103531</td></tr>\n",
       "\t<tr><td>rs72890788     </td><td>836924</td><td>-0.5520486</td></tr>\n",
       "\t<tr><td>rs4475691      </td><td>846808</td><td> 1.2107900</td></tr>\n",
       "\t<tr><td>chr1_847228_C_T</td><td>847228</td><td> 1.6149810</td></tr>\n",
       "\t<tr><td>chr1_854250_A_G</td><td>854250</td><td> 1.4949020</td></tr>\n",
       "\t<tr><td>rs2880024      </td><td>866893</td><td> 0.2308610</td></tr>\n",
       "</tbody>\n",
       "</table>\n"
      ],
      "text/latex": [
       "A data.frame: 6 × 3\n",
       "\\begin{tabular}{r|lll}\n",
       " snp & position & score\\\\\n",
       " <fct> & <int> & <dbl>\\\\\n",
       "\\hline\n",
       "\t chr1\\_834753\\_C\\_G & 834753 & -0.7103531\\\\\n",
       "\t rs72890788      & 836924 & -0.5520486\\\\\n",
       "\t rs4475691       & 846808 &  1.2107900\\\\\n",
       "\t chr1\\_847228\\_C\\_T & 847228 &  1.6149810\\\\\n",
       "\t chr1\\_854250\\_A\\_G & 854250 &  1.4949020\\\\\n",
       "\t rs2880024       & 866893 &  0.2308610\\\\\n",
       "\\end{tabular}\n"
      ],
      "text/markdown": [
       "\n",
       "A data.frame: 6 × 3\n",
       "\n",
       "| snp &lt;fct&gt; | position &lt;int&gt; | score &lt;dbl&gt; |\n",
       "|---|---|---|\n",
       "| chr1_834753_C_G | 834753 | -0.7103531 |\n",
       "| rs72890788      | 836924 | -0.5520486 |\n",
       "| rs4475691       | 846808 |  1.2107900 |\n",
       "| chr1_847228_C_T | 847228 |  1.6149810 |\n",
       "| chr1_854250_A_G | 854250 |  1.4949020 |\n",
       "| rs2880024       | 866893 |  0.2308610 |\n",
       "\n"
      ],
      "text/plain": [
       "  snp             position score     \n",
       "1 chr1_834753_C_G 834753   -0.7103531\n",
       "2 rs72890788      836924   -0.5520486\n",
       "3 rs4475691       846808    1.2107900\n",
       "4 chr1_847228_C_T 847228    1.6149810\n",
       "5 chr1_854250_A_G 854250    1.4949020\n",
       "6 rs2880024       866893    0.2308610"
      ]
     },
     "metadata": {},
     "output_type": "display_data"
    },
    {
     "data": {
      "text/html": [
       "<ol class=list-inline>\n",
       "\t<li>313593</li>\n",
       "\t<li>3</li>\n",
       "</ol>\n"
      ],
      "text/latex": [
       "\\begin{enumerate*}\n",
       "\\item 313593\n",
       "\\item 3\n",
       "\\end{enumerate*}\n"
      ],
      "text/markdown": [
       "1. 313593\n",
       "2. 3\n",
       "\n",
       "\n"
      ],
      "text/plain": [
       "[1] 313593      3"
      ]
     },
     "metadata": {},
     "output_type": "display_data"
    },
    {
     "data": {
      "text/html": [
       "<table>\n",
       "<caption>A data.frame: 6 × 5</caption>\n",
       "<thead>\n",
       "\t<tr><th scope=col>snp</th><th scope=col>chr</th><th scope=col>position</th><th scope=col>or</th><th scope=col>pv</th></tr>\n",
       "\t<tr><th scope=col>&lt;fct&gt;</th><th scope=col>&lt;int&gt;</th><th scope=col>&lt;int&gt;</th><th scope=col>&lt;dbl&gt;</th><th scope=col>&lt;dbl&gt;</th></tr>\n",
       "</thead>\n",
       "<tbody>\n",
       "\t<tr><td>rs7214193         </td><td>17</td><td> 70641865</td><td>1.3431866</td><td>0.0001002464</td></tr>\n",
       "\t<tr><td>rs10098985        </td><td> 8</td><td>128355019</td><td>0.7707201</td><td>0.0001014601</td></tr>\n",
       "\t<tr><td>rs2392780         </td><td> 8</td><td>128388025</td><td>0.7725445</td><td>0.0001016394</td></tr>\n",
       "\t<tr><td>chr1_145561008_G_T</td><td> 1</td><td>145561008</td><td>1.4925075</td><td>0.0001036869</td></tr>\n",
       "\t<tr><td>chr3_177439879_C_T</td><td> 3</td><td>177439879</td><td>0.7575032</td><td>0.0001039202</td></tr>\n",
       "\t<tr><td>rs4479968         </td><td> 6</td><td>104224562</td><td>1.4691906</td><td>0.0001060757</td></tr>\n",
       "</tbody>\n",
       "</table>\n"
      ],
      "text/latex": [
       "A data.frame: 6 × 5\n",
       "\\begin{tabular}{r|lllll}\n",
       " snp & chr & position & or & pv\\\\\n",
       " <fct> & <int> & <int> & <dbl> & <dbl>\\\\\n",
       "\\hline\n",
       "\t rs7214193          & 17 &  70641865 & 1.3431866 & 0.0001002464\\\\\n",
       "\t rs10098985         &  8 & 128355019 & 0.7707201 & 0.0001014601\\\\\n",
       "\t rs2392780          &  8 & 128388025 & 0.7725445 & 0.0001016394\\\\\n",
       "\t chr1\\_145561008\\_G\\_T &  1 & 145561008 & 1.4925075 & 0.0001036869\\\\\n",
       "\t chr3\\_177439879\\_C\\_T &  3 & 177439879 & 0.7575032 & 0.0001039202\\\\\n",
       "\t rs4479968          &  6 & 104224562 & 1.4691906 & 0.0001060757\\\\\n",
       "\\end{tabular}\n"
      ],
      "text/markdown": [
       "\n",
       "A data.frame: 6 × 5\n",
       "\n",
       "| snp &lt;fct&gt; | chr &lt;int&gt; | position &lt;int&gt; | or &lt;dbl&gt; | pv &lt;dbl&gt; |\n",
       "|---|---|---|---|---|\n",
       "| rs7214193          | 17 |  70641865 | 1.3431866 | 0.0001002464 |\n",
       "| rs10098985         |  8 | 128355019 | 0.7707201 | 0.0001014601 |\n",
       "| rs2392780          |  8 | 128388025 | 0.7725445 | 0.0001016394 |\n",
       "| chr1_145561008_G_T |  1 | 145561008 | 1.4925075 | 0.0001036869 |\n",
       "| chr3_177439879_C_T |  3 | 177439879 | 0.7575032 | 0.0001039202 |\n",
       "| rs4479968          |  6 | 104224562 | 1.4691906 | 0.0001060757 |\n",
       "\n"
      ],
      "text/plain": [
       "  snp                chr position  or        pv          \n",
       "1 rs7214193          17   70641865 1.3431866 0.0001002464\n",
       "2 rs10098985          8  128355019 0.7707201 0.0001014601\n",
       "3 rs2392780           8  128388025 0.7725445 0.0001016394\n",
       "4 chr1_145561008_G_T  1  145561008 1.4925075 0.0001036869\n",
       "5 chr3_177439879_C_T  3  177439879 0.7575032 0.0001039202\n",
       "6 rs4479968           6  104224562 1.4691906 0.0001060757"
      ]
     },
     "metadata": {},
     "output_type": "display_data"
    },
    {
     "data": {
      "text/html": [
       "<ol class=list-inline>\n",
       "\t<li>317270</li>\n",
       "\t<li>5</li>\n",
       "</ol>\n"
      ],
      "text/latex": [
       "\\begin{enumerate*}\n",
       "\\item 317270\n",
       "\\item 5\n",
       "\\end{enumerate*}\n"
      ],
      "text/markdown": [
       "1. 317270\n",
       "2. 5\n",
       "\n",
       "\n"
      ],
      "text/plain": [
       "[1] 317270      5"
      ]
     },
     "metadata": {},
     "output_type": "display_data"
    }
   ],
   "source": [
    "# check both:\n",
    "head(lmi)\n",
    "dim(lmi)\n",
    "head(sumstats)\n",
    "dim(sumstats)"
   ]
  },
  {
   "cell_type": "code",
   "execution_count": 26,
   "metadata": {},
   "outputs": [
    {
     "data": {
      "text/html": [
       "<ol class=list-inline>\n",
       "\t<li>313573</li>\n",
       "\t<li>3</li>\n",
       "</ol>\n"
      ],
      "text/latex": [
       "\\begin{enumerate*}\n",
       "\\item 313573\n",
       "\\item 3\n",
       "\\end{enumerate*}\n"
      ],
      "text/markdown": [
       "1. 313573\n",
       "2. 3\n",
       "\n",
       "\n"
      ],
      "text/plain": [
       "[1] 313573      3"
      ]
     },
     "metadata": {},
     "output_type": "display_data"
    },
    {
     "data": {
      "text/html": [
       "0.988347464304851"
      ],
      "text/latex": [
       "0.988347464304851"
      ],
      "text/markdown": [
       "0.988347464304851"
      ],
      "text/plain": [
       "[1] 0.9883475"
      ]
     },
     "metadata": {},
     "output_type": "display_data"
    }
   ],
   "source": [
    "# how many are not NAs?\n",
    "dim(lmi[!is.na(lmi$score),])\n",
    "lmi=lmi[!is.na(lmi$score),]\n",
    "# proportion of snps with LMI over total\n",
    "313573/317270"
   ]
  },
  {
   "cell_type": "code",
   "execution_count": 27,
   "metadata": {},
   "outputs": [
    {
     "data": {
      "text/html": [
       "<ol class=list-inline>\n",
       "\t<li>313573</li>\n",
       "\t<li>7</li>\n",
       "</ol>\n"
      ],
      "text/latex": [
       "\\begin{enumerate*}\n",
       "\\item 313573\n",
       "\\item 7\n",
       "\\end{enumerate*}\n"
      ],
      "text/markdown": [
       "1. 313573\n",
       "2. 7\n",
       "\n",
       "\n"
      ],
      "text/plain": [
       "[1] 313573      7"
      ]
     },
     "metadata": {},
     "output_type": "display_data"
    },
    {
     "data": {
      "text/html": [
       "<table>\n",
       "<caption>A data.frame: 5 × 7</caption>\n",
       "<thead>\n",
       "\t<tr><th scope=col>snp</th><th scope=col>chr</th><th scope=col>position.x</th><th scope=col>or</th><th scope=col>pv</th><th scope=col>position.y</th><th scope=col>score</th></tr>\n",
       "\t<tr><th scope=col>&lt;fct&gt;</th><th scope=col>&lt;int&gt;</th><th scope=col>&lt;int&gt;</th><th scope=col>&lt;dbl&gt;</th><th scope=col>&lt;dbl&gt;</th><th scope=col>&lt;int&gt;</th><th scope=col>&lt;dbl&gt;</th></tr>\n",
       "</thead>\n",
       "<tbody>\n",
       "\t<tr><td>104 </td><td>4</td><td>163274318</td><td>1.1501203</td><td>0.05514656</td><td>163274318</td><td> 1.81551600</td></tr>\n",
       "\t<tr><td>1057</td><td>4</td><td>163404431</td><td>1.0085650</td><td>0.91934335</td><td>163404431</td><td>-0.70176750</td></tr>\n",
       "\t<tr><td>1068</td><td>4</td><td>163406237</td><td>1.1070019</td><td>0.47902035</td><td>163406237</td><td> 0.45234200</td></tr>\n",
       "\t<tr><td>107 </td><td>4</td><td>163274446</td><td>1.1743654</td><td>0.04155792</td><td>163274446</td><td> 2.35241200</td></tr>\n",
       "\t<tr><td>1165</td><td>4</td><td>163417343</td><td>0.9484221</td><td>0.57621857</td><td>163417343</td><td> 0.00355534</td></tr>\n",
       "</tbody>\n",
       "</table>\n"
      ],
      "text/latex": [
       "A data.frame: 5 × 7\n",
       "\\begin{tabular}{r|lllllll}\n",
       " snp & chr & position.x & or & pv & position.y & score\\\\\n",
       " <fct> & <int> & <int> & <dbl> & <dbl> & <int> & <dbl>\\\\\n",
       "\\hline\n",
       "\t 104  & 4 & 163274318 & 1.1501203 & 0.05514656 & 163274318 &  1.81551600\\\\\n",
       "\t 1057 & 4 & 163404431 & 1.0085650 & 0.91934335 & 163404431 & -0.70176750\\\\\n",
       "\t 1068 & 4 & 163406237 & 1.1070019 & 0.47902035 & 163406237 &  0.45234200\\\\\n",
       "\t 107  & 4 & 163274446 & 1.1743654 & 0.04155792 & 163274446 &  2.35241200\\\\\n",
       "\t 1165 & 4 & 163417343 & 0.9484221 & 0.57621857 & 163417343 &  0.00355534\\\\\n",
       "\\end{tabular}\n"
      ],
      "text/markdown": [
       "\n",
       "A data.frame: 5 × 7\n",
       "\n",
       "| snp &lt;fct&gt; | chr &lt;int&gt; | position.x &lt;int&gt; | or &lt;dbl&gt; | pv &lt;dbl&gt; | position.y &lt;int&gt; | score &lt;dbl&gt; |\n",
       "|---|---|---|---|---|---|---|\n",
       "| 104  | 4 | 163274318 | 1.1501203 | 0.05514656 | 163274318 |  1.81551600 |\n",
       "| 1057 | 4 | 163404431 | 1.0085650 | 0.91934335 | 163404431 | -0.70176750 |\n",
       "| 1068 | 4 | 163406237 | 1.1070019 | 0.47902035 | 163406237 |  0.45234200 |\n",
       "| 107  | 4 | 163274446 | 1.1743654 | 0.04155792 | 163274446 |  2.35241200 |\n",
       "| 1165 | 4 | 163417343 | 0.9484221 | 0.57621857 | 163417343 |  0.00355534 |\n",
       "\n"
      ],
      "text/plain": [
       "  snp  chr position.x or        pv         position.y score      \n",
       "1 104  4   163274318  1.1501203 0.05514656 163274318   1.81551600\n",
       "2 1057 4   163404431  1.0085650 0.91934335 163404431  -0.70176750\n",
       "3 1068 4   163406237  1.1070019 0.47902035 163406237   0.45234200\n",
       "4 107  4   163274446  1.1743654 0.04155792 163274446   2.35241200\n",
       "5 1165 4   163417343  0.9484221 0.57621857 163417343   0.00355534"
      ]
     },
     "metadata": {},
     "output_type": "display_data"
    }
   ],
   "source": [
    "# Merge LMI & pv.\n",
    "sumstats_lmi=merge(sumstats,lmi, by='snp')\n",
    "dim(sumstats_lmi)\n",
    "head(sumstats_lmi,5)"
   ]
  },
  {
   "cell_type": "code",
   "execution_count": 24,
   "metadata": {
    "collapsed": true
   },
   "outputs": [
    {
     "data": {
      "text/plain": [
       "      snp              chr           position.x              or        \n",
       " 104    :     1   Min.   : 1.000   Min.   :    13905   Min.   :0.5807  \n",
       " 1057   :     1   1st Qu.: 4.000   1st Qu.: 30054211   1st Qu.:0.9486  \n",
       " 1068   :     1   Median : 8.000   Median : 65536620   Median :1.0015  \n",
       " 107    :     1   Mean   : 8.991   Mean   : 77017397   Mean   :1.0061  \n",
       " 1165   :     1   3rd Qu.:13.000   3rd Qu.:114302966   3rd Qu.:1.0581  \n",
       " 1178   :     1   Max.   :22.000   Max.   :249170711   Max.   :1.8463  \n",
       " (Other):313587                                                        \n",
       "       pv              position.y            score         \n",
       " Min.   :0.0000009   Min.   :    13905   Min.   :-5.39595  \n",
       " 1st Qu.:0.2354156   1st Qu.: 30054211   1st Qu.:-0.02847  \n",
       " Median :0.4844420   Median : 65536620   Median : 0.09774  \n",
       " Mean   :0.4894874   Mean   : 77017397   Mean   : 0.30061  \n",
       " 3rd Qu.:0.7432455   3rd Qu.:114302966   3rd Qu.: 0.45958  \n",
       " Max.   :0.9999990   Max.   :249170711   Max.   :18.23877  \n",
       "                                         NA's   :20        "
      ]
     },
     "metadata": {},
     "output_type": "display_data"
    }
   ],
   "source": [
    "summary(sumstats_lmi)"
   ]
  },
  {
   "cell_type": "code",
   "execution_count": 30,
   "metadata": {},
   "outputs": [],
   "source": [
    "# Saving sumstats merged with LMI for each SNPs\n",
    "save(sumstats_lmi,file=\"sumstats_lmi.Rda\")"
   ]
  },
  {
   "cell_type": "markdown",
   "metadata": {},
   "source": [
    "### Analysis"
   ]
  },
  {
   "cell_type": "code",
   "execution_count": 29,
   "metadata": {
    "collapsed": true
   },
   "outputs": [
    {
     "data": {
      "image/png": "[encoded data removed]",
      "text/plain": [
       "Plot with title “Histogram of sumstats_lmi$score”"
      ]
     },
     "metadata": {},
     "output_type": "display_data"
    }
   ],
   "source": [
    "# histogram of LMI values\n",
    "hist(sumstats_lmi$score, breaks=500)"
   ]
  },
  {
   "cell_type": "markdown",
   "metadata": {},
   "source": [
    "#### Filters for the LMI values"
   ]
  },
  {
   "cell_type": "markdown",
   "metadata": {},
   "source": [
    "As explained in the paper we will remove those with negative LMI and as well those that come from the negative part of the cdf."
   ]
  },
  {
   "cell_type": "markdown",
   "metadata": {},
   "source": [
    "##### Filter one: Removing the LMI negative values"
   ]
  },
  {
   "cell_type": "code",
   "execution_count": 32,
   "metadata": {},
   "outputs": [
    {
     "data": {
      "text/html": [
       "<ol class=list-inline>\n",
       "\t<li>213220</li>\n",
       "\t<li>7</li>\n",
       "</ol>\n"
      ],
      "text/latex": [
       "\\begin{enumerate*}\n",
       "\\item 213220\n",
       "\\item 7\n",
       "\\end{enumerate*}\n"
      ],
      "text/markdown": [
       "1. 213220\n",
       "2. 7\n",
       "\n",
       "\n"
      ],
      "text/plain": [
       "[1] 213220      7"
      ]
     },
     "metadata": {},
     "output_type": "display_data"
    }
   ],
   "source": [
    "sumstats_lmi.fil1=sumstats_lmi[sumstats_lmi$score > 0,]\n",
    "dim(sumstats_lmi.fil1)"
   ]
  },
  {
   "cell_type": "markdown",
   "metadata": {},
   "source": [
    "##### Filter two: Removing if the SNPs come from the negative part of their Z-score distribution"
   ]
  },
  {
   "cell_type": "code",
   "execution_count": 33,
   "metadata": {},
   "outputs": [],
   "source": [
    "# read a full file with the cdf for each chromosome separately.\n",
    "# we will now find the SNPs that had a LMI > 0 and find them in here.\n",
    "# removing them in case they come from the negative part\n",
    "delz=read.table(paste0(wd,\"sumstats/sumstats.raw.pangen_isblac_epicuro.cdf.all\"))\n",
    "colnames(delz)=c(\"chr\", \"position\",\"snp\",\"or\",\"pv\",\"or1\",\"zscore\")"
   ]
  },
  {
   "cell_type": "code",
   "execution_count": 40,
   "metadata": {},
   "outputs": [
    {
     "data": {
      "text/html": [
       "<ol class=list-inline>\n",
       "\t<li>315942</li>\n",
       "\t<li>7</li>\n",
       "</ol>\n"
      ],
      "text/latex": [
       "\\begin{enumerate*}\n",
       "\\item 315942\n",
       "\\item 7\n",
       "\\end{enumerate*}\n"
      ],
      "text/markdown": [
       "1. 315942\n",
       "2. 7\n",
       "\n",
       "\n"
      ],
      "text/plain": [
       "[1] 315942      7"
      ]
     },
     "metadata": {},
     "output_type": "display_data"
    },
    {
     "data": {
      "text/html": [
       "317270"
      ],
      "text/latex": [
       "317270"
      ],
      "text/markdown": [
       "317270"
      ],
      "text/plain": [
       "[1] 317270"
      ]
     },
     "metadata": {},
     "output_type": "display_data"
    }
   ],
   "source": [
    "dim(delz) # there are 1,328 SNPs that had NA in the summary statistics for the OR.\n",
    "315942+1328 # Note that it adds up to the total initial number."
   ]
  },
  {
   "cell_type": "code",
   "execution_count": 45,
   "metadata": {},
   "outputs": [
    {
     "data": {
      "text/html": [
       "<ol class=list-inline>\n",
       "\t<li>157965</li>\n",
       "\t<li>7</li>\n",
       "</ol>\n"
      ],
      "text/latex": [
       "\\begin{enumerate*}\n",
       "\\item 157965\n",
       "\\item 7\n",
       "\\end{enumerate*}\n"
      ],
      "text/markdown": [
       "1. 157965\n",
       "2. 7\n",
       "\n",
       "\n"
      ],
      "text/plain": [
       "[1] 157965      7"
      ]
     },
     "metadata": {},
     "output_type": "display_data"
    }
   ],
   "source": [
    "# To delete, select those snps with a Z<0\n",
    "todel=delz[delz$zscore < 0,]\n",
    "\n",
    "# how many SNPs we remove with this filter step\n",
    "dim(todel)"
   ]
  },
  {
   "cell_type": "code",
   "execution_count": 43,
   "metadata": {},
   "outputs": [],
   "source": [
    "# Apply the filter\n",
    "sumstats_lmi.fil2=sumstats_lmi.fil1[!sumstats_lmi.fil1$position.x %in% todel$position,]\n",
    "# Set it to a clean new variable\n",
    "sumstats_lmi.clean=sumstats_lmi.fil2[complete.cases(sumstats_lmi.fil2),]"
   ]
  },
  {
   "cell_type": "code",
   "execution_count": 46,
   "metadata": {},
   "outputs": [
    {
     "data": {
      "text/html": [
       "<ol class=list-inline>\n",
       "\t<li>102146</li>\n",
       "\t<li>7</li>\n",
       "</ol>\n"
      ],
      "text/latex": [
       "\\begin{enumerate*}\n",
       "\\item 102146\n",
       "\\item 7\n",
       "\\end{enumerate*}\n"
      ],
      "text/markdown": [
       "1. 102146\n",
       "2. 7\n",
       "\n",
       "\n"
      ],
      "text/plain": [
       "[1] 102146      7"
      ]
     },
     "metadata": {},
     "output_type": "display_data"
    }
   ],
   "source": [
    "# The final set of 102,146\n",
    "dim(sumstats_lmi.clean)"
   ]
  },
  {
   "cell_type": "code",
   "execution_count": 47,
   "metadata": {},
   "outputs": [],
   "source": [
    "save(sumstats_lmi.clean, file=\"sumstats_lmi.clean.rdata\")"
   ]
  },
  {
   "cell_type": "markdown",
   "metadata": {},
   "source": [
    "#### Selecting the top 0.5% SNPs"
   ]
  },
  {
   "cell_type": "code",
   "execution_count": 48,
   "metadata": {},
   "outputs": [
    {
     "data": {
      "text/html": [
       "<dl class=dl-horizontal>\n",
       "\t<dt>97.5%</dt>\n",
       "\t\t<dd>3.181269</dd>\n",
       "\t<dt>98.0%</dt>\n",
       "\t\t<dd>3.472233</dd>\n",
       "\t<dt>98.5%</dt>\n",
       "\t\t<dd>3.87376</dd>\n",
       "\t<dt>99.0%</dt>\n",
       "\t\t<dd>4.370065</dd>\n",
       "\t<dt>99.5%</dt>\n",
       "\t\t<dd>5.107103</dd>\n",
       "\t<dt>100.0%</dt>\n",
       "\t\t<dd>18.23877</dd>\n",
       "</dl>\n"
      ],
      "text/latex": [
       "\\begin{description*}\n",
       "\\item[97.5\\textbackslash{}\\%] 3.181269\n",
       "\\item[98.0\\textbackslash{}\\%] 3.472233\n",
       "\\item[98.5\\textbackslash{}\\%] 3.87376\n",
       "\\item[99.0\\textbackslash{}\\%] 4.370065\n",
       "\\item[99.5\\textbackslash{}\\%] 5.107103\n",
       "\\item[100.0\\textbackslash{}\\%] 18.23877\n",
       "\\end{description*}\n"
      ],
      "text/markdown": [
       "97.5%\n",
       ":   3.18126998.0%\n",
       ":   3.47223398.5%\n",
       ":   3.8737699.0%\n",
       ":   4.37006599.5%\n",
       ":   5.107103100.0%\n",
       ":   18.23877\n",
       "\n"
      ],
      "text/plain": [
       "    97.5%     98.0%     98.5%     99.0%     99.5%    100.0% \n",
       " 3.181269  3.472233  3.873760  4.370065  5.107103 18.238770 "
      ]
     },
     "metadata": {},
     "output_type": "display_data"
    },
    {
     "data": {
      "text/html": [
       "510"
      ],
      "text/latex": [
       "510"
      ],
      "text/markdown": [
       "510"
      ],
      "text/plain": [
       "[1] 510"
      ]
     },
     "metadata": {},
     "output_type": "display_data"
    }
   ],
   "source": [
    "# Select top 0.5% of the positive values\n",
    "# Check the threshold: 0.5%=1/200 SNPs will be selected and show the percentiles\n",
    "tail(quantile(sumstats_lmi.clean$score,\n",
    "                       prob = seq(0, 1, length = 201),\n",
    "                       type = 1))\n",
    "# How many SNPs will we keep\n",
    "length(which(sumstats_lmi.clean$score > threshold_lmi))"
   ]
  },
  {
   "cell_type": "code",
   "execution_count": 90,
   "metadata": {},
   "outputs": [],
   "source": [
    "threshold_lmi=5.107103"
   ]
  },
  {
   "cell_type": "code",
   "execution_count": 57,
   "metadata": {},
   "outputs": [
    {
     "data": {
      "text/html": [
       "<table>\n",
       "<caption>A data.frame: 6 × 6</caption>\n",
       "<thead>\n",
       "\t<tr><th></th><th scope=col>snp</th><th scope=col>chr</th><th scope=col>position.x</th><th scope=col>or</th><th scope=col>pv</th><th scope=col>score</th></tr>\n",
       "\t<tr><th></th><th scope=col>&lt;fct&gt;</th><th scope=col>&lt;int&gt;</th><th scope=col>&lt;int&gt;</th><th scope=col>&lt;dbl&gt;</th><th scope=col>&lt;dbl&gt;</th><th scope=col>&lt;dbl&gt;</th></tr>\n",
       "</thead>\n",
       "<tbody>\n",
       "\t<tr><th scope=row>34</th><td>2543              </td><td> 4</td><td>163606031</td><td>0.7172544</td><td>0.011333183</td><td> 6.282651</td></tr>\n",
       "\t<tr><th scope=row>239</th><td>c1_pos120983010   </td><td> 1</td><td>121281487</td><td>1.5340550</td><td>0.001826026</td><td>10.897990</td></tr>\n",
       "\t<tr><th scope=row>354</th><td>c3_pos157892782   </td><td> 3</td><td>156410088</td><td>0.6922817</td><td>0.010629577</td><td> 6.012305</td></tr>\n",
       "\t<tr><th scope=row>363</th><td>c3_pos158180281   </td><td> 3</td><td>156697587</td><td>0.7287885</td><td>0.033223549</td><td> 5.848027</td></tr>\n",
       "\t<tr><th scope=row>520</th><td>c9_pos21944071    </td><td> 9</td><td> 21954071</td><td>0.7523026</td><td>0.035140835</td><td> 5.398795</td></tr>\n",
       "\t<tr><th scope=row>1944</th><td>chr10_21182034_A_C</td><td>10</td><td> 21182034</td><td>1.3130735</td><td>0.052441876</td><td>10.654810</td></tr>\n",
       "</tbody>\n",
       "</table>\n"
      ],
      "text/latex": [
       "A data.frame: 6 × 6\n",
       "\\begin{tabular}{r|llllll}\n",
       "  & snp & chr & position.x & or & pv & score\\\\\n",
       "  & <fct> & <int> & <int> & <dbl> & <dbl> & <dbl>\\\\\n",
       "\\hline\n",
       "\t34 & 2543               &  4 & 163606031 & 0.7172544 & 0.011333183 &  6.282651\\\\\n",
       "\t239 & c1\\_pos120983010    &  1 & 121281487 & 1.5340550 & 0.001826026 & 10.897990\\\\\n",
       "\t354 & c3\\_pos157892782    &  3 & 156410088 & 0.6922817 & 0.010629577 &  6.012305\\\\\n",
       "\t363 & c3\\_pos158180281    &  3 & 156697587 & 0.7287885 & 0.033223549 &  5.848027\\\\\n",
       "\t520 & c9\\_pos21944071     &  9 &  21954071 & 0.7523026 & 0.035140835 &  5.398795\\\\\n",
       "\t1944 & chr10\\_21182034\\_A\\_C & 10 &  21182034 & 1.3130735 & 0.052441876 & 10.654810\\\\\n",
       "\\end{tabular}\n"
      ],
      "text/markdown": [
       "\n",
       "A data.frame: 6 × 6\n",
       "\n",
       "| <!--/--> | snp &lt;fct&gt; | chr &lt;int&gt; | position.x &lt;int&gt; | or &lt;dbl&gt; | pv &lt;dbl&gt; | score &lt;dbl&gt; |\n",
       "|---|---|---|---|---|---|---|\n",
       "| 34 | 2543               |  4 | 163606031 | 0.7172544 | 0.011333183 |  6.282651 |\n",
       "| 239 | c1_pos120983010    |  1 | 121281487 | 1.5340550 | 0.001826026 | 10.897990 |\n",
       "| 354 | c3_pos157892782    |  3 | 156410088 | 0.6922817 | 0.010629577 |  6.012305 |\n",
       "| 363 | c3_pos158180281    |  3 | 156697587 | 0.7287885 | 0.033223549 |  5.848027 |\n",
       "| 520 | c9_pos21944071     |  9 |  21954071 | 0.7523026 | 0.035140835 |  5.398795 |\n",
       "| 1944 | chr10_21182034_A_C | 10 |  21182034 | 1.3130735 | 0.052441876 | 10.654810 |\n",
       "\n"
      ],
      "text/plain": [
       "     snp                chr position.x or        pv          score    \n",
       "34   2543                4  163606031  0.7172544 0.011333183  6.282651\n",
       "239  c1_pos120983010     1  121281487  1.5340550 0.001826026 10.897990\n",
       "354  c3_pos157892782     3  156410088  0.6922817 0.010629577  6.012305\n",
       "363  c3_pos158180281     3  156697587  0.7287885 0.033223549  5.848027\n",
       "520  c9_pos21944071      9   21954071  0.7523026 0.035140835  5.398795\n",
       "1944 chr10_21182034_A_C 10   21182034  1.3130735 0.052441876 10.654810"
      ]
     },
     "metadata": {},
     "output_type": "display_data"
    }
   ],
   "source": [
    "# perform the selection of these 510 top SNPs\n",
    "lmi_selection=subset(sumstats_lmi.clean[sumstats_lmi.clean$score > threshold_lmi,], select=c(1,2,3,4,5,7))\n",
    "head(lmi_selection)"
   ]
  },
  {
   "cell_type": "markdown",
   "metadata": {},
   "source": [
    "#### Adding the 143 GWASpv <1e-04 prioritized in the paper\n",
    "As we comment on the paper, we analyzed altogether the LMI SNPs and the GWAS pv SNPs."
   ]
  },
  {
   "cell_type": "code",
   "execution_count": 52,
   "metadata": {},
   "outputs": [
    {
     "data": {
      "text/html": [],
      "text/latex": [],
      "text/markdown": [],
      "text/plain": [
       "character(0)"
      ]
     },
     "metadata": {},
     "output_type": "display_data"
    }
   ],
   "source": [
    "# run a quick command on bash to select only those 143 SNPs, instead of reading again the dataset here\n",
    "# bash select those 143 that overpass the pvalue threshold on any cohort.\n",
    "# the 13th column denotes the more significant pvalue in any cohort.\n",
    "try(system(paste0(\"awk '$13 < 0.0001' \",wd,\"/sumstats.raw | cut -f1-4,13 > \",wd,\"/sumstats.raw.pv1e4\"), intern = TRUE))\n",
    "# read the 143 SNPs\n",
    "pv143=read.table(paste0(wd,\"/sumstats.raw.pv1e4\"), header=F)\n",
    "colnames(pv143)=c(\"snp\",\"chr\",\"position.x\",\"or\",\"pv\")\n",
    "dim(pv143)\n",
    "head(pv143)"
   ]
  },
  {
   "cell_type": "code",
   "execution_count": 58,
   "metadata": {},
   "outputs": [
    {
     "data": {
      "text/html": [
       "<ol class=list-inline>\n",
       "\t<li>29</li>\n",
       "\t<li>6</li>\n",
       "</ol>\n"
      ],
      "text/latex": [
       "\\begin{enumerate*}\n",
       "\\item 29\n",
       "\\item 6\n",
       "\\end{enumerate*}\n"
      ],
      "text/markdown": [
       "1. 29\n",
       "2. 6\n",
       "\n",
       "\n"
      ],
      "text/plain": [
       "[1] 29  6"
      ]
     },
     "metadata": {},
     "output_type": "display_data"
    }
   ],
   "source": [
    "# How many of the 143 are already selected by LMI\n",
    "dim(lmi_selection[lmi_selection$snp %in% pv143$snp,])"
   ]
  },
  {
   "cell_type": "code",
   "execution_count": 61,
   "metadata": {},
   "outputs": [
    {
     "data": {
      "text/html": [
       "<ol class=list-inline>\n",
       "\t<li>142</li>\n",
       "\t<li>6</li>\n",
       "</ol>\n"
      ],
      "text/latex": [
       "\\begin{enumerate*}\n",
       "\\item 142\n",
       "\\item 6\n",
       "\\end{enumerate*}\n"
      ],
      "text/markdown": [
       "1. 142\n",
       "2. 6\n",
       "\n",
       "\n"
      ],
      "text/plain": [
       "[1] 142   6"
      ]
     },
     "metadata": {},
     "output_type": "display_data"
    }
   ],
   "source": [
    "# Add for those 143 their LMI, finding them in the full dataset\n",
    "pv143_score=subset(merge(sumstats_lmi,pv143, by=\"snp\"),select=c(1,2,3,4,11,7))\n",
    "colnames(pv143_score)=c(\"snp\",\"chr\",\"position.x\",\"or\",\"pv\",\"score\")\n",
    "dim(pv143_score)"
   ]
  },
  {
   "cell_type": "code",
   "execution_count": 63,
   "metadata": {},
   "outputs": [],
   "source": [
    "# Remove these 143 SNPs from the dataset.\n",
    "# This way, we will add the SNPs with the pvalue minor that Evangelina et al used to select them.\n",
    "# Otherwise, we will get only the pvalue from the cohort from which we got the ORs.\n",
    "quitar=subset(sumstats_lmi.clean[!sumstats_lmi.clean$snp %in% pv143_score$snp,],select = c(1,2,3,4,5,7))"
   ]
  },
  {
   "cell_type": "code",
   "execution_count": 66,
   "metadata": {},
   "outputs": [
    {
     "data": {
      "text/html": [
       "<ol class=list-inline>\n",
       "\t<li>102146</li>\n",
       "\t<li>7</li>\n",
       "</ol>\n"
      ],
      "text/latex": [
       "\\begin{enumerate*}\n",
       "\\item 102146\n",
       "\\item 7\n",
       "\\end{enumerate*}\n"
      ],
      "text/markdown": [
       "1. 102146\n",
       "2. 7\n",
       "\n",
       "\n"
      ],
      "text/plain": [
       "[1] 102146      7"
      ]
     },
     "metadata": {},
     "output_type": "display_data"
    }
   ],
   "source": [
    "dim(sumstats_lmi.clean)"
   ]
  },
  {
   "cell_type": "code",
   "execution_count": 65,
   "metadata": {},
   "outputs": [
    {
     "data": {
      "text/html": [
       "<ol class=list-inline>\n",
       "\t<li>102022</li>\n",
       "\t<li>6</li>\n",
       "</ol>\n"
      ],
      "text/latex": [
       "\\begin{enumerate*}\n",
       "\\item 102022\n",
       "\\item 6\n",
       "\\end{enumerate*}\n"
      ],
      "text/markdown": [
       "1. 102022\n",
       "2. 6\n",
       "\n",
       "\n"
      ],
      "text/plain": [
       "[1] 102022      6"
      ]
     },
     "metadata": {},
     "output_type": "display_data"
    }
   ],
   "source": [
    "dim(quitar)"
   ]
  },
  {
   "cell_type": "code",
   "execution_count": 67,
   "metadata": {},
   "outputs": [],
   "source": [
    "# There is one SNP missing the LMI value. Get it and still add it to the dataframe, with a NA as LMI.\n",
    "miss=pv143[!pv143$snp %in% sumstats_lmi$snp,]\n",
    "miss$score=NA"
   ]
  },
  {
   "cell_type": "code",
   "execution_count": 70,
   "metadata": {},
   "outputs": [],
   "source": [
    "toplot=distinct(rbind(quitar, pv143_score, miss))"
   ]
  },
  {
   "cell_type": "code",
   "execution_count": 84,
   "metadata": {
    "collapsed": true
   },
   "outputs": [
    {
     "data": {
      "text/plain": [
       "      snp              chr           position.x              or        \n",
       " 104    :     1   Min.   : 1.000   Min.   :    13905   Min.   :0.5807  \n",
       " 1068   :     1   1st Qu.: 4.000   1st Qu.: 31004188   1st Qu.:0.9034  \n",
       " 107    :     1   Median : 8.000   Median : 66452562   Median :1.0597  \n",
       " 1165   :     1   Mean   : 8.978   Mean   : 77335913   Mean   :1.0141  \n",
       " 120    :     1   3rd Qu.:13.000   3rd Qu.:114421313   3rd Qu.:1.1123  \n",
       " 1202   :     1   Max.   :22.000   Max.   :249154567   Max.   :1.8463  \n",
       " (Other):102159                                                        \n",
       "       pv                score         \n",
       " Min.   :0.0000009   Min.   :-2.39716  \n",
       " 1st Qu.:0.0918779   1st Qu.: 0.09338  \n",
       " Median :0.2062747   Median : 0.31066  \n",
       " Mean   :0.2269343   Mean   : 0.64301  \n",
       " 3rd Qu.:0.3412743   3rd Qu.: 0.82253  \n",
       " Max.   :0.7175019   Max.   :18.23877  \n",
       "                     NA's   :1         "
      ]
     },
     "metadata": {},
     "output_type": "display_data"
    }
   ],
   "source": [
    "summary(toplot)"
   ]
  },
  {
   "cell_type": "code",
   "execution_count": 71,
   "metadata": {},
   "outputs": [
    {
     "data": {
      "text/html": [
       "<ol class=list-inline>\n",
       "\t<li>102146</li>\n",
       "\t<li>7</li>\n",
       "</ol>\n"
      ],
      "text/latex": [
       "\\begin{enumerate*}\n",
       "\\item 102146\n",
       "\\item 7\n",
       "\\end{enumerate*}\n"
      ],
      "text/markdown": [
       "1. 102146\n",
       "2. 7\n",
       "\n",
       "\n"
      ],
      "text/plain": [
       "[1] 102146      7"
      ]
     },
     "metadata": {},
     "output_type": "display_data"
    },
    {
     "data": {
      "text/html": [
       "<ol class=list-inline>\n",
       "\t<li>102165</li>\n",
       "\t<li>6</li>\n",
       "</ol>\n"
      ],
      "text/latex": [
       "\\begin{enumerate*}\n",
       "\\item 102165\n",
       "\\item 6\n",
       "\\end{enumerate*}\n"
      ],
      "text/markdown": [
       "1. 102165\n",
       "2. 6\n",
       "\n",
       "\n"
      ],
      "text/plain": [
       "[1] 102165      6"
      ]
     },
     "metadata": {},
     "output_type": "display_data"
    }
   ],
   "source": [
    "dim(sumstats_lmi.clean)\n",
    "# t1 has 1 snp more because we added the \"miss\" snp that had no LMI value.\n",
    "dim(toplot)"
   ]
  },
  {
   "cell_type": "code",
   "execution_count": 86,
   "metadata": {},
   "outputs": [
    {
     "data": {
      "text/html": [
       "5.1071"
      ],
      "text/latex": [
       "5.1071"
      ],
      "text/markdown": [
       "5.1071"
      ],
      "text/plain": [
       "[1] 5.1071"
      ]
     },
     "metadata": {},
     "output_type": "display_data"
    }
   ],
   "source": [
    "threshold_lmi"
   ]
  },
  {
   "cell_type": "markdown",
   "metadata": {},
   "source": [
    "#### Plot: Correlation GWASpv LMI"
   ]
  },
  {
   "cell_type": "code",
   "execution_count": 77,
   "metadata": {},
   "outputs": [
    {
     "name": "stderr",
     "output_type": "stream",
     "text": [
      "Warning message in cor.test.default(toplot$score, -log10(toplot$pv), method = \"spearman\"):\n",
      "“Cannot compute exact p-value with ties”"
     ]
    },
    {
     "data": {
      "text/plain": [
       "\n",
       "\tSpearman's rank correlation rho\n",
       "\n",
       "data:  toplot$score and -log10(toplot$pv)\n",
       "S = 6.7373e+13, p-value < 2.2e-16\n",
       "alternative hypothesis: true rho is not equal to 0\n",
       "sample estimates:\n",
       "      rho \n",
       "0.6209081 \n"
      ]
     },
     "metadata": {},
     "output_type": "display_data"
    },
    {
     "data": {
      "image/png": "[encoded data removed]",
      "text/plain": [
       "Plot with title “Selected SNPs\n",
       "LMI+GWAS pv”"
      ]
     },
     "metadata": {},
     "output_type": "display_data"
    }
   ],
   "source": [
    "# Plot the LMI & GWAS pvalue data.\n",
    "#pdf()\n",
    "threshold_lmi=5.1071\n",
    "plot(-log10(toplot$pv),toplot$score,\n",
    "     main = \"Selected SNPs\\nLMI+GWAS pv\",\n",
    "     xlab=\"-log10 GWAS PV\",\n",
    "     ylab=\"LMI\",\n",
    "#     ylim=c(0,),\n",
    "     xlim=c(0,8),\n",
    "     type=\"n\"\n",
    "    )\n",
    "abline(h=threshold_lmi,col=alpha('red',0.5),lty=\"dashed\")\n",
    "abline(v=-log10(1e-4),col=alpha('red',0.5),lty=\"dashed\")\n",
    "\n",
    "points(-log10(toplot$pv),toplot$score,pch=16,\n",
    "     cex=0.4,\n",
    "     col=alpha('darkolivegreen',0.3))\n",
    "\n",
    "cor.test(toplot$score,\n",
    "         -log10(toplot$pv), \n",
    "         method='spearman')\n",
    "#dev.off()"
   ]
  },
  {
   "cell_type": "markdown",
   "metadata": {},
   "source": [
    "#### Plot: Zoom distribution of LMI scores."
   ]
  },
  {
   "cell_type": "code",
   "execution_count": 75,
   "metadata": {},
   "outputs": [
    {
     "data": {
      "image/png": "[encoded data removed]",
      "text/plain": [
       "Plot with title “LMI score distribution”"
      ]
     },
     "metadata": {},
     "output_type": "display_data"
    }
   ],
   "source": [
    "#pdf()\n",
    "par(new = FALSE)\n",
    "hist(toplot$score,\n",
    "     main=\"LMI score distribution\",\n",
    "     xlab='LMI score',\n",
    "     breaks=1000,\n",
    "    ylim=c(0,200),\n",
    "    border=\"darkkhaki\")\n",
    "segments(x0=5.1071,y0=0,x1=5.1071,y1=50,col=\"black\", lty='dotted')\n",
    "par(new = TRUE)\n",
    "par(fig = c(0.3, 1, 0.3, 1))\n",
    "# Full distribution as subplot\n",
    "hist(toplot$score,\n",
    "     breaks=300,\n",
    "    xlab=NULL,\n",
    "     ylab=NULL,\n",
    "     col='red',\n",
    "     border=\"red\",\n",
    "     main=NULL\n",
    "    )\n",
    "polygon(c(-2.5,-2.5,19,19),c(200,-300,-300,200),col=alpha('darkkhaki',0.25),border=TRUE,density=NULL)\n",
    "#dev.off()"
   ]
  },
  {
   "cell_type": "markdown",
   "metadata": {},
   "source": [
    "#### Getting the 624 selected GWAS+LMI SNPs"
   ]
  },
  {
   "cell_type": "code",
   "execution_count": 81,
   "metadata": {},
   "outputs": [
    {
     "data": {
      "text/html": [
       "<ol class=list-inline>\n",
       "\t<li>102165</li>\n",
       "\t<li>6</li>\n",
       "</ol>\n"
      ],
      "text/latex": [
       "\\begin{enumerate*}\n",
       "\\item 102165\n",
       "\\item 6\n",
       "\\end{enumerate*}\n"
      ],
      "text/markdown": [
       "1. 102165\n",
       "2. 6\n",
       "\n",
       "\n"
      ],
      "text/plain": [
       "[1] 102165      6"
      ]
     },
     "metadata": {},
     "output_type": "display_data"
    }
   ],
   "source": [
    "dim(toplot)"
   ]
  },
  {
   "cell_type": "code",
   "execution_count": 91,
   "metadata": {},
   "outputs": [
    {
     "data": {
      "text/html": [
       "<ol class=list-inline>\n",
       "\t<li>624</li>\n",
       "\t<li>6</li>\n",
       "</ol>\n"
      ],
      "text/latex": [
       "\\begin{enumerate*}\n",
       "\\item 624\n",
       "\\item 6\n",
       "\\end{enumerate*}\n"
      ],
      "text/markdown": [
       "1. 624\n",
       "2. 6\n",
       "\n",
       "\n"
      ],
      "text/plain": [
       "[1] 624   6"
      ]
     },
     "metadata": {},
     "output_type": "display_data"
    },
    {
     "data": {
      "text/html": [
       "<table>\n",
       "<caption>A data.frame: 6 × 6</caption>\n",
       "<thead>\n",
       "\t<tr><th></th><th scope=col>snp</th><th scope=col>chr</th><th scope=col>position.x</th><th scope=col>or</th><th scope=col>pv</th><th scope=col>score</th></tr>\n",
       "\t<tr><th></th><th scope=col>&lt;fct&gt;</th><th scope=col>&lt;int&gt;</th><th scope=col>&lt;int&gt;</th><th scope=col>&lt;dbl&gt;</th><th scope=col>&lt;dbl&gt;</th><th scope=col>&lt;dbl&gt;</th></tr>\n",
       "</thead>\n",
       "<tbody>\n",
       "\t<tr><th scope=row>6463</th><td>chr16_49662912_G_T </td><td>16</td><td> 49662912</td><td>0.7876675</td><td>0.09139230</td><td>5.468089</td></tr>\n",
       "\t<tr><th scope=row>60674</th><td>rs2677789          </td><td> 4</td><td> 16018282</td><td>0.7880744</td><td>0.09282715</td><td>5.158939</td></tr>\n",
       "\t<tr><th scope=row>846</th><td>chr10_44308718_A_G </td><td>10</td><td> 44308718</td><td>1.2395789</td><td>0.11396467</td><td>5.610519</td></tr>\n",
       "\t<tr><th scope=row>56958</th><td>rs2244740          </td><td>12</td><td> 20177450</td><td>1.2238102</td><td>0.13104162</td><td>5.151206</td></tr>\n",
       "\t<tr><th scope=row>4410</th><td>chr13_113939146_A_G</td><td>13</td><td>113939146</td><td>0.8201495</td><td>0.16771337</td><td>5.556497</td></tr>\n",
       "\t<tr><th scope=row>2315</th><td>chr1_158624528_G_T </td><td> 1</td><td>158624528</td><td>1.2028351</td><td>0.20089090</td><td>5.796711</td></tr>\n",
       "</tbody>\n",
       "</table>\n"
      ],
      "text/latex": [
       "A data.frame: 6 × 6\n",
       "\\begin{tabular}{r|llllll}\n",
       "  & snp & chr & position.x & or & pv & score\\\\\n",
       "  & <fct> & <int> & <int> & <dbl> & <dbl> & <dbl>\\\\\n",
       "\\hline\n",
       "\t6463 & chr16\\_49662912\\_G\\_T  & 16 &  49662912 & 0.7876675 & 0.09139230 & 5.468089\\\\\n",
       "\t60674 & rs2677789           &  4 &  16018282 & 0.7880744 & 0.09282715 & 5.158939\\\\\n",
       "\t846 & chr10\\_44308718\\_A\\_G  & 10 &  44308718 & 1.2395789 & 0.11396467 & 5.610519\\\\\n",
       "\t56958 & rs2244740           & 12 &  20177450 & 1.2238102 & 0.13104162 & 5.151206\\\\\n",
       "\t4410 & chr13\\_113939146\\_A\\_G & 13 & 113939146 & 0.8201495 & 0.16771337 & 5.556497\\\\\n",
       "\t2315 & chr1\\_158624528\\_G\\_T  &  1 & 158624528 & 1.2028351 & 0.20089090 & 5.796711\\\\\n",
       "\\end{tabular}\n"
      ],
      "text/markdown": [
       "\n",
       "A data.frame: 6 × 6\n",
       "\n",
       "| <!--/--> | snp &lt;fct&gt; | chr &lt;int&gt; | position.x &lt;int&gt; | or &lt;dbl&gt; | pv &lt;dbl&gt; | score &lt;dbl&gt; |\n",
       "|---|---|---|---|---|---|---|\n",
       "| 6463 | chr16_49662912_G_T  | 16 |  49662912 | 0.7876675 | 0.09139230 | 5.468089 |\n",
       "| 60674 | rs2677789           |  4 |  16018282 | 0.7880744 | 0.09282715 | 5.158939 |\n",
       "| 846 | chr10_44308718_A_G  | 10 |  44308718 | 1.2395789 | 0.11396467 | 5.610519 |\n",
       "| 56958 | rs2244740           | 12 |  20177450 | 1.2238102 | 0.13104162 | 5.151206 |\n",
       "| 4410 | chr13_113939146_A_G | 13 | 113939146 | 0.8201495 | 0.16771337 | 5.556497 |\n",
       "| 2315 | chr1_158624528_G_T  |  1 | 158624528 | 1.2028351 | 0.20089090 | 5.796711 |\n",
       "\n"
      ],
      "text/plain": [
       "      snp                 chr position.x or        pv         score   \n",
       "6463  chr16_49662912_G_T  16   49662912  0.7876675 0.09139230 5.468089\n",
       "60674 rs2677789            4   16018282  0.7880744 0.09282715 5.158939\n",
       "846   chr10_44308718_A_G  10   44308718  1.2395789 0.11396467 5.610519\n",
       "56958 rs2244740           12   20177450  1.2238102 0.13104162 5.151206\n",
       "4410  chr13_113939146_A_G 13  113939146  0.8201495 0.16771337 5.556497\n",
       "2315  chr1_158624528_G_T   1  158624528  1.2028351 0.20089090 5.796711"
      ]
     },
     "metadata": {},
     "output_type": "display_data"
    }
   ],
   "source": [
    "# Combine both dataframes, those selected with LMI and pv, and select unique entries because there are 29 in common.\n",
    "tosave_lmipv=toplot[which(toplot$score > threshold_lmi | toplot$pv < 0.0001),]\n",
    "\n",
    "# Just sort them\n",
    "tosave_lmipv=tosave_lmipv[order(tosave_lmipv$chr,tosave_lmipv$position.x),]\n",
    "\n",
    "# We get 624 SNPs\n",
    "dim(tosave_lmipv)\n",
    "\n",
    "tail(tosave_lmipv[order(tosave_lmipv$pv),])"
   ]
  },
  {
   "cell_type": "code",
   "execution_count": 92,
   "metadata": {},
   "outputs": [],
   "source": [
    "# Save the data frame to file to run in the following scripts.\n",
    "write.table(tosave_lmipv,\n",
    "            file=(paste0(wd,'/LMI_pv.snps')),\n",
    "            quote=FALSE, \n",
    "            sep='\\t',\n",
    "            col.names = FALSE,\n",
    "            row.names = FALSE)"
   ]
  },
  {
   "cell_type": "markdown",
   "metadata": {},
   "source": [
    "This final table, should contain the SNPs selected through LMI and GWAS pvalue.\n",
    "For the present analysis we obtained **624 SNPs**"
   ]
  },
  {
   "cell_type": "markdown",
   "metadata": {},
   "source": [
    "**END**"
   ]
  },
  {
   "cell_type": "code",
   "execution_count": null,
   "metadata": {},
   "outputs": [],
   "source": []
  },
  {
   "cell_type": "code",
   "execution_count": null,
   "metadata": {},
   "outputs": [],
   "source": []
  },
  {
   "cell_type": "code",
   "execution_count": null,
   "metadata": {},
   "outputs": [],
   "source": []
  }
 ],
 "metadata": {
  "kernelspec": {
   "display_name": "R",
   "language": "R",
   "name": "ir"
  },
  "language_info": {
   "codemirror_mode": "r",
   "file_extension": ".r",
   "mimetype": "text/x-r-source",
   "name": "R",
   "pygments_lexer": "r",
   "version": "3.6.1"
  },
  "toc": {
   "base_numbering": 1,
   "nav_menu": {},
   "number_sections": true,
   "sideBar": true,
   "skip_h1_title": false,
   "title_cell": "Table of Contents",
   "title_sidebar": "Contents",
   "toc_cell": true,
   "toc_position": {},
   "toc_section_display": true,
   "toc_window_display": false
  }
 },
 "nbformat": 4,
 "nbformat_minor": 2
}
