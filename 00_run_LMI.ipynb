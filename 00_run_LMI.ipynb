{
 "cells": [
  {
   "cell_type": "markdown",
   "metadata": {
    "toc": true
   },
   "source": [
    "<h1>Table of Contents<span class=\"tocSkip\"></span></h1>\n",
    "<div class=\"toc\"><ul class=\"toc-item\"><li><span><a href=\"#Software-required\" data-toc-modified-id=\"Software-required-1\"><span class=\"toc-item-num\">1&nbsp;&nbsp;</span>Software required</a></span></li><li><span><a href=\"#Downloading-data\" data-toc-modified-id=\"Downloading-data-2\"><span class=\"toc-item-num\">2&nbsp;&nbsp;</span>Downloading data</a></span><ul class=\"toc-item\"><li><span><a href=\"#Data-provided-and-folder-hierarchy\" data-toc-modified-id=\"Data-provided-and-folder-hierarchy-2.1\"><span class=\"toc-item-num\">2.1&nbsp;&nbsp;</span>Data provided and folder hierarchy</a></span></li><li><span><a href=\"#1000Genomes-data\" data-toc-modified-id=\"1000Genomes-data-2.2\"><span class=\"toc-item-num\">2.2&nbsp;&nbsp;</span>1000Genomes data</a></span></li></ul></li><li><span><a href=\"#Running-LMI\" data-toc-modified-id=\"Running-LMI-3\"><span class=\"toc-item-num\">3&nbsp;&nbsp;</span>Running LMI</a></span><ul class=\"toc-item\"><li><span><a href=\"#Download-the-scripts\" data-toc-modified-id=\"Download-the-scripts-3.1\"><span class=\"toc-item-num\">3.1&nbsp;&nbsp;</span>Download the scripts</a></span></li><li><span><a href=\"#Format-sumstats-file:\" data-toc-modified-id=\"Format-sumstats-file:-3.2\"><span class=\"toc-item-num\">3.2&nbsp;&nbsp;</span>Format sumstats file:</a></span></li><li><span><a href=\"#Now-run-the-script-this-like-this.\" data-toc-modified-id=\"Now-run-the-script-this-like-this.-3.3\"><span class=\"toc-item-num\">3.3&nbsp;&nbsp;</span>Now run the script this like this.</a></span></li></ul></li><li><span><a href=\"#Format-&amp;-prepare-GWAS-sumstats-and-LMI-results\" data-toc-modified-id=\"Format-&amp;-prepare-GWAS-sumstats-and-LMI-results-4\"><span class=\"toc-item-num\">4&nbsp;&nbsp;</span>Format &amp; prepare GWAS sumstats and LMI results</a></span></li></ul></div>"
   ]
  },
  {
   "cell_type": "markdown",
   "metadata": {},
   "source": [
    "### Software required"
   ]
  },
  {
   "cell_type": "markdown",
   "metadata": {},
   "source": [
    "Download and install the following required software and add them to your path.\n",
    "\n",
    "Plink: https://www.cog-genomics.org/plink/1.9/\n",
    "\n",
    "Vcftools http://vcftools.sourceforge.net/\n",
    "\n",
    "R https://cran.r-project.org/"
   ]
  },
  {
   "cell_type": "markdown",
   "metadata": {},
   "source": [
    "### Downloading data "
   ]
  },
  {
   "cell_type": "markdown",
   "metadata": {},
   "source": [
    "Download the folder **`data_LMI.tar.gz`** from the following Google Drive link:\n",
    "\n",
    "https://drive.google.com/file/d/11jaU23jGxW6pdXSkjalrcSe5w1qD9wYf/view?usp=sharing\n",
    "\n",
    "transfer to your working directory and unpack it using:"
   ]
  },
  {
   "cell_type": "code",
   "execution_count": null,
   "metadata": {},
   "outputs": [],
   "source": [
    "tar xvzf data_LMI.tar.gz"
   ]
  },
  {
   "cell_type": "markdown",
   "metadata": {},
   "source": [
    "#### Data provided and folder hierarchy\n",
    "This `data` folder contains several files and sub-folders:\n",
    "\n",
    "**Folders:**\n",
    "- `results_LMI`: Folder where the LMI calculations will be stored\n",
    "- `sumstats`: Folder where the script `run_LMI.sh` will place sumstats-derived processed files (sumstats split by chromosome,cummulative distribution functions, list of snp codes)\n",
    "- `snp_files`: Same as above, but to place SNP-derived intermediate calculations\n",
    "- `1000genomes_CEU_MAF001.tar.gz`: See below; next section.\n",
    "\n",
    "**Files:**\n",
    "- `sumstats.raw.pv1e4`: List of the 143 SNPs with pv <= 1e-04\n",
    "- `CEU_indv.txt`: See below.\n",
    "- `sumstats.raw`: All the sumstats for the full set of SNPs and the 3 cohorts\n",
    "- `sumstats.raw.pangen_isblac_epicuro`: Sumstats for the cohort used here to calculated LMI.\n",
    "- `LMI_pv.snps`: The list of 624 SNPs selected through p-value and LMI.\n"
   ]
  },
  {
   "cell_type": "markdown",
   "metadata": {},
   "source": [
    "#### 1000Genomes data\n",
    "To calculate linkage disequilibrium and populational frecuencies we need a reference population. You can use any VCF from any population, but our study was run with CEU population (n=85) (check file `CEU_indv.txt`, in `data` folder for a list of the individuals used) and MAF < 0.01. \n",
    "\n",
    "Under the `data` folder, in subfolder `1000genomes_CEU_MAF001.tar.gz` we are providing files for 22 chromosomes filtered to:\n",
    "- Contain only CEU individuals (n=85)\n",
    "- Contain only those variants (common variants) with MAF >= 0.01 in our selected population\n",
    "\n",
    "Enter the `your_working_dir/data/` folder you just unpacked and unpack this other file as well: "
   ]
  },
  {
   "cell_type": "code",
   "execution_count": null,
   "metadata": {},
   "outputs": [],
   "source": [
    "tar xvzf 1000genomes_CEU_MAF001.tar.gz"
   ]
  },
  {
   "cell_type": "markdown",
   "metadata": {},
   "source": [
    "### Running LMI"
   ]
  },
  {
   "cell_type": "markdown",
   "metadata": {},
   "source": [
    "#### Download the scripts\n",
    "Download the gzipped folder containing the scripts from: https://github.com/pollicipes/Local-Moran-Index-1D/, or clone the repository.\n",
    "Move to that folder and you'll find some scripts.\n",
    "To calculate LMI You only have to run the main script `run_LMI.sh` following the commands below."
   ]
  },
  {
   "cell_type": "markdown",
   "metadata": {},
   "source": [
    "#### Format sumstats file:\n",
    "The order of the columns for the sumstats **MUST** be: (not need to have the same string headers, but columns must contain what the header refers to)\n",
    "\n",
    "`SNP\tCHR\tBP\tOR\tP`\n",
    "\n",
    "Being respectively: SNP name code, chromosome, base pair position, effect size, pvalue"
   ]
  },
  {
   "cell_type": "code",
   "execution_count": null,
   "metadata": {},
   "outputs": [],
   "source": [
    "# Switching to the folder you just download\n",
    "cd ${YOUR_PATH}/Local-Moran-Index-1D/"
   ]
  },
  {
   "cell_type": "markdown",
   "metadata": {},
   "source": [
    "#### Now run the script this like this.\n",
    "Set the variables and the options you prefer. This code runs for a single chromosome. You can parallelize the code in several processors; one chromosome each."
   ]
  },
  {
   "cell_type": "code",
   "execution_count": null,
   "metadata": {},
   "outputs": [],
   "source": [
    "./run_lmi.sh \n",
    "    ${YOUR_PATH}/data/                              # Starting folder full path until the data folder\n",
    "    ${YOUR_PATH}/data/chr_files_1KG_CEU_MAF001/     # 1000 genomes files full path\n",
    "    ${YOUR_PATH}/sumstats.raw.pangen_isblac_epicuro # Summary statistics (should be on the starting folder)\n",
    "    22                                              # Chromosome to process\n",
    "    500000                                          # Window on which calculate LMI\n",
    "    0.05                                            # difference allowed in MAF\n",
    "    alias                                           # just an alias/prefix to identify the sample.                                                 "
   ]
  },
  {
   "cell_type": "markdown",
   "metadata": {},
   "source": [
    "### Format & prepare GWAS sumstats and LMI results"
   ]
  },
  {
   "cell_type": "markdown",
   "metadata": {},
   "source": [
    "In our sumstats we have several cohorts and the resulting pvalues and effect sizes for each one of them. We selected the `pangen_isblac_epicuro` cohort."
   ]
  },
  {
   "cell_type": "code",
   "execution_count": 5,
   "metadata": {},
   "outputs": [],
   "source": [
    "# working folder\n",
    "wd=${YOUR_PATH}/data;\n",
    "cd ${wd};"
   ]
  },
  {
   "cell_type": "code",
   "execution_count": 6,
   "metadata": {},
   "outputs": [],
   "source": [
    "# Substitute header to suitable format:\n",
    "# From the full raw sumstats, select only pangen-isblac epicuro \n",
    "cut -f1-4,6 sumstats.raw | sed 1d > sumstats.raw.pangen_isblac_epicuro\n",
    "# Add header manually."
   ]
  },
  {
   "cell_type": "code",
   "execution_count": 7,
   "metadata": {},
   "outputs": [
    {
     "name": "stdout",
     "output_type": "stream",
     "text": [
      "89\n"
     ]
    }
   ],
   "source": [
    "# how many markers with pv <1e-4 in this cohort\n",
    "awk '$5 < 0.0001' sumstats.raw.pangen_isblac_epicuro| wc -l"
   ]
  },
  {
   "cell_type": "markdown",
   "metadata": {},
   "source": [
    "Concatenate all LMI values for each chromosome"
   ]
  },
  {
   "cell_type": "code",
   "execution_count": 8,
   "metadata": {},
   "outputs": [],
   "source": [
    "cat results_LMI/sumstats.raw.pangen_isblac_epicuro_localMoranI.chr* > results_LMI/sumstats.raw.pangen_isblac_epicuro_localMoranI.all"
   ]
  },
  {
   "cell_type": "markdown",
   "metadata": {},
   "source": [
    "Proceed to `01_GWAS_LMI_integration`, using `R`"
   ]
  },
  {
   "cell_type": "markdown",
   "metadata": {},
   "source": [
    "**END**"
   ]
  }
 ],
 "metadata": {
  "kernelspec": {
   "display_name": "Bash",
   "language": "bash",
   "name": "bash"
  },
  "language_info": {
   "codemirror_mode": "shell",
   "file_extension": ".sh",
   "mimetype": "text/x-sh",
   "name": "bash"
  },
  "toc": {
   "base_numbering": 1,
   "nav_menu": {},
   "number_sections": true,
   "sideBar": true,
   "skip_h1_title": false,
   "title_cell": "Table of Contents",
   "title_sidebar": "Contents",
   "toc_cell": true,
   "toc_position": {},
   "toc_section_display": true,
   "toc_window_display": false
  }
 },
 "nbformat": 4,
 "nbformat_minor": 2
}
