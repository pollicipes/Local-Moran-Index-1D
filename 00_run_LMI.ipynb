{
 "cells": [
  {
   "cell_type": "markdown",
   "metadata": {
    "toc": true
   },
   "source": [
    "<h1>Table of Contents<span class=\"tocSkip\"></span></h1>\n",
    "<div class=\"toc\"><ul class=\"toc-item\"><li><span><a href=\"#Software-required\" data-toc-modified-id=\"Software-required-1\"><span class=\"toc-item-num\">1&nbsp;&nbsp;</span>Software required</a></span></li><li><span><a href=\"#Download-1000Genomes-data\" data-toc-modified-id=\"Download-1000Genomes-data-2\"><span class=\"toc-item-num\">2&nbsp;&nbsp;</span>Download 1000Genomes data</a></span></li><li><span><a href=\"#Running-LMI\" data-toc-modified-id=\"Running-LMI-3\"><span class=\"toc-item-num\">3&nbsp;&nbsp;</span>Running LMI</a></span><ul class=\"toc-item\"><li><span><a href=\"#Download-data-and-scripts\" data-toc-modified-id=\"Download-data-and-scripts-3.1\"><span class=\"toc-item-num\">3.1&nbsp;&nbsp;</span>Download data and scripts</a></span></li><li><span><a href=\"#Format-sumstats-file:\" data-toc-modified-id=\"Format-sumstats-file:-3.2\"><span class=\"toc-item-num\">3.2&nbsp;&nbsp;</span>Format sumstats file:</a></span></li><li><span><a href=\"#Now-run-the-script-this-like-this.\" data-toc-modified-id=\"Now-run-the-script-this-like-this.-3.3\"><span class=\"toc-item-num\">3.3&nbsp;&nbsp;</span>Now run the script this like this.</a></span></li></ul></li><li><span><a href=\"#Format-&amp;-prepare-GWAS-sumstats-&amp;-LMI-results\" data-toc-modified-id=\"Format-&amp;-prepare-GWAS-sumstats-&amp;-LMI-results-4\"><span class=\"toc-item-num\">4&nbsp;&nbsp;</span>Format &amp; prepare GWAS sumstats &amp; LMI results</a></span></li></ul></div>"
   ]
  },
  {
   "cell_type": "markdown",
   "metadata": {},
   "source": [
    "### Software required"
   ]
  },
  {
   "cell_type": "markdown",
   "metadata": {},
   "source": [
    "Download and install the following required software and add them to your path.\n",
    "\n",
    "Plink: https://www.cog-genomics.org/plink/1.9/\n",
    "\n",
    "Vcftools http://vcftools.sourceforge.net/\n",
    "\n",
    "R https://cran.r-project.org/"
   ]
  },
  {
   "cell_type": "markdown",
   "metadata": {},
   "source": [
    "### Download 1000Genomes data\n",
    "You can use any VCF from any population, but our study was run with CEU population (n=85) (file `CEU_indv.txt`, for a list of the individuals) and MAF < 0.01.\n",
    "\n",
    "See below for the example VCF set we used in our study."
   ]
  },
  {
   "cell_type": "markdown",
   "metadata": {},
   "source": [
    "### Running LMI"
   ]
  },
  {
   "cell_type": "markdown",
   "metadata": {},
   "source": [
    "#### Download data and scripts\n",
    "Download the gzipped folder from: https://github.com/pollicipes/Local-Moran-Index-1D/\n",
    "Move to that folder and you'll find some scripts and one folder named `data` containing the sumstats and the CEU sample names used.\n",
    "To calculate LMI You only have to run the main script `run_LMI.sh` following the commands below."
   ]
  },
  {
   "cell_type": "markdown",
   "metadata": {},
   "source": [
    "In the folder you just downloaded, go to `/data/1000genomes_CEU_MAF001.tar.gz`, where we have provided the VCF set we used for the analysis. \n",
    "\n",
    "Unzip the folder like this:"
   ]
  },
  {
   "cell_type": "code",
   "execution_count": null,
   "metadata": {},
   "outputs": [],
   "source": [
    "tar xvzf /data/1000genomes_CEU_MAF001.tar.gz"
   ]
  },
  {
   "cell_type": "markdown",
   "metadata": {},
   "source": [
    "#### Format sumstats file:\n",
    "The order of the columns for the sumstats **MUST** be: (not need to have the same string headers, but columns must contain what the header refers to)\n",
    "\n",
    "`SNP\tCHR\tBP\tOR\tP`\n",
    "\n",
    "Being respectively: SNP name code, chromosome, base pair position, effect size, pvalue"
   ]
  },
  {
   "cell_type": "code",
   "execution_count": null,
   "metadata": {},
   "outputs": [],
   "source": [
    "# Switching to the folder you just download\n",
    "cd ${YOUR_PATH}/Local-Moran-Index-1D/"
   ]
  },
  {
   "cell_type": "markdown",
   "metadata": {},
   "source": [
    "#### Now run the script this like this.\n",
    "Set the variables and the options you prefer. This code runs for a single chromosome. You can parallelize the code in several processors; one chromosome each."
   ]
  },
  {
   "cell_type": "code",
   "execution_count": null,
   "metadata": {},
   "outputs": [],
   "source": [
    "./run_lmi.sh \n",
    "    ${YOUR_PATH}/data/                           # Starting folder full path\n",
    "    ${YOUR_PATH}/data/chr_files_1KG_CEU_MAF001/  # 1000 genomes files full path\n",
    "    sumstats.raw.pangen_isblac_epicuro           # Summary statistics (should be on the starting folder)\n",
    "    22                                           # Chromosome to process\n",
    "    500000                                       # Window on which calculate LMI\n",
    "    0.05                                         # difference allowed in MAF\n",
    "    alias                                        # alias to identify the sample.                                                 "
   ]
  },
  {
   "cell_type": "markdown",
   "metadata": {},
   "source": [
    "### Format & prepare GWAS sumstats & LMI results"
   ]
  },
  {
   "cell_type": "markdown",
   "metadata": {},
   "source": [
    "In our sumstats we have several cohorts and the resulting pvalues and effect sizes for each one of them. We selected the `pangen_isblac_epicuro` cohort."
   ]
  },
  {
   "cell_type": "code",
   "execution_count": 5,
   "metadata": {},
   "outputs": [],
   "source": [
    "# working folder\n",
    "wd=${YOUR_PATH}/data;\n",
    "cd ${wd};"
   ]
  },
  {
   "cell_type": "code",
   "execution_count": 6,
   "metadata": {},
   "outputs": [],
   "source": [
    "# Substitute header to suitable format:\n",
    "# From the full raw sumstats, select only pangen-isblac epicuro \n",
    "cut -f1-4,6 sumstats.raw | sed 1d > sumstats.raw.pangen_isblac_epicuro\n",
    "# Add header manually."
   ]
  },
  {
   "cell_type": "code",
   "execution_count": 7,
   "metadata": {},
   "outputs": [
    {
     "name": "stdout",
     "output_type": "stream",
     "text": [
      "89\n"
     ]
    }
   ],
   "source": [
    "# how many markers with pv <1e-4 in this dataset\n",
    "awk '$5 < 0.0001' sumstats.raw.pangen_isblac_epicuro| wc -l"
   ]
  },
  {
   "cell_type": "markdown",
   "metadata": {},
   "source": [
    "Concatenate all LMI values for each chromosome"
   ]
  },
  {
   "cell_type": "code",
   "execution_count": 8,
   "metadata": {},
   "outputs": [],
   "source": [
    "cat results_LMI/sumstats.raw.pangen_isblac_epicuro_localMoranI.chr* > results_LMI/sumstats.raw.pangen_isblac_epicuro_localMoranI.all"
   ]
  },
  {
   "cell_type": "markdown",
   "metadata": {},
   "source": [
    "Proceed to `01_GWAS_LMI_integration`, using `R`"
   ]
  },
  {
   "cell_type": "markdown",
   "metadata": {},
   "source": [
    "**END**"
   ]
  }
 ],
 "metadata": {
  "kernelspec": {
   "display_name": "Bash",
   "language": "bash",
   "name": "bash"
  },
  "language_info": {
   "codemirror_mode": "shell",
   "file_extension": ".sh",
   "mimetype": "text/x-sh",
   "name": "bash"
  },
  "toc": {
   "base_numbering": 1,
   "nav_menu": {},
   "number_sections": true,
   "sideBar": true,
   "skip_h1_title": false,
   "title_cell": "Table of Contents",
   "title_sidebar": "Contents",
   "toc_cell": true,
   "toc_position": {},
   "toc_section_display": true,
   "toc_window_display": false
  }
 },
 "nbformat": 4,
 "nbformat_minor": 2
}
